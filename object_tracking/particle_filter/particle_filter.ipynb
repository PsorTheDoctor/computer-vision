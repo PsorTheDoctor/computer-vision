{
  "nbformat": 4,
  "nbformat_minor": 0,
  "metadata": {
    "colab": {
      "provenance": [],
      "authorship_tag": "ABX9TyOJ4+3XX5+MGWuieWb/EACV",
      "include_colab_link": true
    },
    "kernelspec": {
      "name": "python3",
      "display_name": "Python 3"
    },
    "language_info": {
      "name": "python"
    }
  },
  "cells": [
    {
      "cell_type": "markdown",
      "metadata": {
        "id": "view-in-github",
        "colab_type": "text"
      },
      "source": [
        "<a href=\"https://colab.research.google.com/github/PsorTheDoctor/artificial-intelligence/blob/master/computer_vision/particle_filter/particle_filter.ipynb\" target=\"_parent\"><img src=\"https://colab.research.google.com/assets/colab-badge.svg\" alt=\"Open In Colab\"/></a>"
      ]
    },
    {
      "cell_type": "markdown",
      "source": [
        "#Particle Filter"
      ],
      "metadata": {
        "id": "9Bc8p-PaCwZO"
      }
    },
    {
      "cell_type": "code",
      "execution_count": 1,
      "metadata": {
        "id": "nKKUkvsHCvKS"
      },
      "outputs": [],
      "source": [
        "import numpy as np\n",
        "from pylab import *\n",
        "from itertools import zip_longest as zip\n",
        "import time\n",
        "from IPython import display"
      ]
    },
    {
      "cell_type": "code",
      "source": [
        "def resample(weights):\n",
        "  n = len(weights)\n",
        "  indices = []\n",
        "  C = [0.] + [sum(weights[:i+1]) for i in range(n)]\n",
        "  u0, j = random(), 0\n",
        "\n",
        "  for u in [(u0+i)/n for i in range(n)]:\n",
        "    while u > C[j]:\n",
        "      j += 1\n",
        "    indices.append(j - 1)\n",
        "\n",
        "  return indices\n",
        "\n",
        "def particleFilter(sequence, pos, stepSize, n):\n",
        "  seq = iter(sequence)\n",
        "  x = np.ones((n, 2), int) * pos\n",
        "  f0 = next(seq)[tuple(pos)] * np.ones(n)\n",
        "  yield pos, x, ones(n)/n\n",
        "\n",
        "  for im in seq:\n",
        "    np.add(x, np.random.uniform(-stepSize, stepSize, x.shape), out=x, casting='unsafe')\n",
        "    x = x.clip(np.zeros(2), np.array(im.shape)-1).astype(int)\n",
        "    f = im[tuple(x.T)]\n",
        "    w = 1./(1. + (f0-f)**2)\n",
        "    w /= sum(w)\n",
        "    yield sum(x.T*w, axis=1), x, w\n",
        "\n",
        "    if 1./sum(w**2) < n/2.:\n",
        "      x = x[resample(w), :]"
      ],
      "metadata": {
        "id": "tj3xWK7kCvyz"
      },
      "execution_count": 12,
      "outputs": []
    },
    {
      "cell_type": "code",
      "source": [
        "# Create 30 frames long image sequence\n",
        "seq = [im for im in np.zeros((30, 240, 320), int)]\n",
        "# Add a square with start position\n",
        "x0 = np.array([120, 160])\n",
        "xs = np.vstack((arange(30)*3, arange(30)*2)).T + x0\n",
        "\n",
        "for t, x in enumerate(xs):\n",
        "  xslice = slice(x[0] - 8, x[0] + 8)\n",
        "  yslice = slice(x[1] - 8, x[1] + 8)\n",
        "  seq[t][xslice, yslice] = 255\n",
        "\n",
        "for im, p in zip(seq, particleFilter(seq, x0, 8, 100)):\n",
        "  pos, xs, ws = p\n",
        "  position_overlay = np.zeros_like(im)\n",
        "  position_overlay[np.array(pos).astype(int)] = 1\n",
        "  particle_overlay = np.zeros_like(im)\n",
        "  particle_overlay[tuple(xs.T)] = 1\n",
        "  draw()\n",
        "  time.sleep(0.3)\n",
        "\n",
        "  clf()\n",
        "  imshow(im, cmap=cm.gray)\n",
        "  spy(position_overlay, marker='.', color='b')\n",
        "  spy(particle_overlay, marker=',', color='r')\n",
        "  display.clear_output(wait=True)\n",
        "  display.display(show())"
      ],
      "metadata": {
        "colab": {
          "base_uri": "https://localhost:8080/",
          "height": 287
        },
        "id": "Fn0EB6JQKzHz",
        "outputId": "05f0c57b-da90-4340-c139-a82960440996"
      },
      "execution_count": 14,
      "outputs": [
        {
          "output_type": "display_data",
          "data": {
            "text/plain": [
              "<Figure size 432x288 with 1 Axes>"
            ],
            "image/png": "[encoded data removed]"
          },
          "metadata": {
            "needs_background": "light"
          }
        },
        {
          "output_type": "display_data",
          "data": {
            "text/plain": [
              "None"
            ]
          },
          "metadata": {}
        }
      ]
    }
  ]
}
